{
 "cells": [
  {
   "cell_type": "markdown",
   "metadata": {},
   "source": [
    "# 第1回課題\n",
    "for文（enumerate, zip），dictの利用"
   ]
  },
  {
   "cell_type": "markdown",
   "metadata": {},
   "source": [
    "## for文（enumerate, zip）\n",
    "for文を用いた統計値の導出"
   ]
  },
  {
   "cell_type": "markdown",
   "metadata": {},
   "source": [
    "### 課題1\n",
    "以下の行列 M について，各行の平均値を計算した上で，平均値を降順に出力せよ．\n",
    "```[python]\n",
    "M = [[50, 50, 80, 70, 90],\n",
    "     [50, 70, 60, 90, 100],\n",
    "     [90, 80, 90, 90, 80],\n",
    "     [0, 40, 60, 20, 70],\n",
    "     [60, 80, 90, 80, 90]\n",
    "    ]\n",
    "```\n",
    "出力：  \n",
    "    1位: 86.0  \n",
    "    2位: 80.0  \n",
    "    3位: 74.0  \n",
    "    4位: 68.0  \n",
    "    5位: 38.0  \n",
    " \n",
    "\n",
    "なお，本課題は標準ライブラリのみを利用し実現すること．"
   ]
  },
  {
   "cell_type": "code",
   "execution_count": 109,
   "metadata": {},
   "outputs": [
    {
     "name": "stdout",
     "output_type": "stream",
     "text": [
      "1 位: 86.0\n",
      "2 位: 80.0\n",
      "3 位: 74.0\n",
      "4 位: 68.0\n",
      "5 位: 38.0\n"
     ]
    }
   ],
   "source": [
    "import numpy as np\n",
    "\n",
    "M = [[50, 50, 80, 70, 90],\n",
    "     [50, 70, 60, 90, 100],\n",
    "     [90, 80, 90, 90, 80],\n",
    "     [0, 40, 60, 20, 70],\n",
    "     [60, 80, 90, 80, 90]\n",
    "    ]\n",
    "\n",
    "ave=[]\n",
    "for x in range(5):\n",
    "    ave.append(np.mean(M[x])) \n",
    "result=sorted(ave,reverse=True)\n",
    "\n",
    "for x,score in enumerate(result,1):\n",
    "    print(x,\"位:\",score)"
   ]
  },
  {
   "cell_type": "markdown",
   "metadata": {},
   "source": [
    "### 課題2\n",
    "以下の2つのデータに対し，共分散を導出せよ．  \n",
    "なお，少なくとも1度 zip を利用すること  \n",
    "\n",
    "\n",
    "```[python]\n",
    "d1 = [50, 50, 80, 70, 90]   # データ1\n",
    "d2 = [50, 70, 60, 90, 100]  # データ2\n",
    "```\n",
    "出力：  \n",
    "$188.0$  \n",
    "\n",
    "ここで，サンプル集合 $X=\\{x_i\\}_{1 \\le i \\le N}$，$Y=\\{y_i\\}_{1 \\le i \\le N}$ に対する 共分散 は下式により与えられるものとする．  \n",
    "なお，$N$はサンプル数を表す．\n",
    "\n",
    "$$\n",
    "    \\begin{align}\n",
    "        Cov(X,Y)&=\\frac{1}{N}\\left(\\sum_{i=1}^Nx_iy_i\\right)-\\left(\\frac{1}{N}\\sum_{i=1}^N x_i\\right)\\left(\\frac{1}{N}\\sum_{i=1}^N y_i\\right)\n",
    "    \\end{align}\n",
    "$$  \n",
    "\n",
    "なお，本課題は標準ライブラリのみを利用し実現すること．"
   ]
  },
  {
   "cell_type": "code",
   "execution_count": 130,
   "metadata": {},
   "outputs": [
    {
     "name": "stdout",
     "output_type": "stream",
     "text": [
      "188.0\n"
     ]
    }
   ],
   "source": [
    "import numpy as np\n",
    "\n",
    "d1 = [50, 50, 80, 70, 90]   # データ1\n",
    "d2 = [50, 70, 60, 90, 100]  # データ2\n",
    "\n",
    "m_d1=sum(d1)/len(d1)\n",
    "m_d2=sum(d1)/len(d2)\n",
    "\n",
    "mul=0\n",
    "for i, j in zip(d1,d2):\n",
    "    mul+=(i-m_d1)*(j-m_d2)\n",
    "    cov=mul/len(d1)\n",
    "\n",
    "print(cov)"
   ]
  },
  {
   "cell_type": "markdown",
   "metadata": {},
   "source": [
    "## dictの利用\n"
   ]
  },
  {
   "cell_type": "markdown",
   "metadata": {},
   "source": [
    "### 課題3\n",
    "ある学校に所属する学生数が保存されたdictionary d_student が以下のように与えられているとする．  \n",
    "この時，博士（D），修士（M）学部（B）の合計人数をそれぞれ出力せよ\n",
    "```[python]\n",
    "d_student = {\"B4\": 86, \"D3\": 1, \"B3\": 91, \"D2\": 0, \"M2\": 17, \"B2\": 102, \"D1\": 1, \"M1\": 21, \"B1\": 110}\n",
    "```\n",
    "出力：  \n",
    "D: 2人  \n",
    "M: 38人  \n",
    "B: 389人  \n",
    "\n",
    "なお，本課題は標準ライブラリのみを利用し実現すること．"
   ]
  },
  {
   "cell_type": "code",
   "execution_count": 159,
   "metadata": {},
   "outputs": [
    {
     "name": "stdout",
     "output_type": "stream",
     "text": [
      "D: 2 人\n",
      "M: 38 人\n",
      "B: 389 人\n"
     ]
    }
   ],
   "source": [
    "import numpy as np\n",
    "\n",
    "d_student = {\"B4\": 86, \"D3\": 1, \"B3\": 91, \"D2\": 0, \"M2\": 17, \"B2\": 102, \"D1\": 1, \"M1\": 21, \"B1\": 110}\n",
    "\n",
    "sum_b=0\n",
    "sum_m=0\n",
    "sum_d=0\n",
    "for x in d_student:\n",
    "    if \"B\" in x:\n",
    "        sum_b+=d_student[x]\n",
    "    if \"M\" in x:\n",
    "        sum_m+=d_student[x]\n",
    "    if \"D\" in x:\n",
    "        sum_d+=d_student[x]\n",
    "\n",
    "print(\"D:\",sum_d,\"人\\nM:\",sum_m,\"人\\nB:\",sum_b,\"人\")"
   ]
  },
  {
   "cell_type": "code",
   "execution_count": null,
   "metadata": {},
   "outputs": [],
   "source": []
  }
 ],
 "metadata": {
  "anaconda-cloud": {},
  "kernelspec": {
   "display_name": "Python 3",
   "language": "python",
   "name": "python3"
  },
  "language_info": {
   "codemirror_mode": {
    "name": "ipython",
    "version": 3
   },
   "file_extension": ".py",
   "mimetype": "text/x-python",
   "name": "python",
   "nbconvert_exporter": "python",
   "pygments_lexer": "ipython3",
   "version": "3.7.6"
  }
 },
 "nbformat": 4,
 "nbformat_minor": 2
}
